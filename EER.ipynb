{
 "cells": [
  {
   "cell_type": "code",
   "execution_count": 1,
   "id": "a55f224a-b2f9-4a19-94cc-4f99f23f7f87",
   "metadata": {},
   "outputs": [
    {
     "name": "stderr",
     "output_type": "stream",
     "text": [
      "[NeMo W 2023-06-28 13:04:02 optimizers:54] Apex was not found. Using the lamb or fused_adam optimizer will error out.\n",
      "[NeMo W 2023-06-28 13:04:07 nemo_logging:349] /Users/ajaybati/miniconda3/envs/sanas/lib/python3.8/site-packages/pydub/utils.py:170: RuntimeWarning: Couldn't find ffmpeg or avconv - defaulting to ffmpeg, but may not work\n",
      "      warn(\"Couldn't find ffmpeg or avconv - defaulting to ffmpeg, but may not work\", RuntimeWarning)\n",
      "    \n"
     ]
    }
   ],
   "source": [
    "from nemo.collections.asr.models import EncDecSpeakerLabelModel\n",
    "from IPython.display import Audio, display\n",
    "import numpy as np\n",
    "import torch\n",
    "import torchaudio\n",
    "import torchaudio.transforms as T\n",
    "import torchaudio.functional as F\n",
    "import math\n",
    "import os\n",
    "import requests\n",
    "import boto3\n",
    "import wave\n",
    "import sys\n",
    "import contextlib\n",
    "import webrtcvad\n",
    "import collections\n",
    "from tqdm import tqdm\n",
    "from tqdm.notebook import tqdm\n",
    "from sklearn.cluster import KMeans\n",
    "from sklearn.metrics import silhouette_samples, silhouette_score, davies_bouldin_score\n",
    "from sklearn.decomposition import PCA\n",
    "from sklearn.mixture import GaussianMixture\n",
    "from itertools import combinations\n"
   ]
  },
  {
   "cell_type": "code",
   "execution_count": 2,
   "id": "b2c35875-1d52-4d6f-a1b8-c210034d90dc",
   "metadata": {},
   "outputs": [],
   "source": [
    "spEmbs = torch.load(\"SpeakerNetEmbs.pkl\")\n",
    "ecapaEmbs = torch.load(\"EcapaEmbs.pkl\")"
   ]
  },
  {
   "cell_type": "code",
   "execution_count": 399,
   "id": "6339f313-bdfb-4b81-8405-8e7676e660f8",
   "metadata": {},
   "outputs": [],
   "source": [
    "pos1000 = np.array([np.random.choice(len(x),7, replace=False) for x in spEmbs])\n",
    "pos1000 = [list(combinations(x, 2)) for x in pos1000]"
   ]
  },
  {
   "cell_type": "code",
   "execution_count": 400,
   "id": "916dab05-17f5-4e59-aa50-9a79ce6f6e5a",
   "metadata": {},
   "outputs": [],
   "source": [
    "negCands = [np.random.choice(54,len(pos1000[0]),replace=True) for x in range(54)]\n",
    "neg1000 = [[(2,x,np.random.choice(len(spEmbs[x]))) for x in negCands[y]] for y in range(len(spEmbs))]"
   ]
  },
  {
   "cell_type": "code",
   "execution_count": 401,
   "id": "c4dcd4e2-0e2d-4811-bff7-8e0256eba963",
   "metadata": {},
   "outputs": [
    {
     "name": "stdout",
     "output_type": "stream",
     "text": [
      "2430\n"
     ]
    }
   ],
   "source": [
    "print(len(pos1000)*len(pos1000[0]))"
   ]
  },
  {
   "cell_type": "code",
   "execution_count": 402,
   "id": "bf41a61c-b842-40ad-8a64-d283fd344664",
   "metadata": {},
   "outputs": [],
   "source": [
    "#len(pos/neg1000) = 54, each index is for each speaker\n",
    "def get_score(embs, cand1, cand2):\n",
    "    #cand1/2 = (ith speaker, jth segment)\n",
    "    X = embs[cand1[0]][cand1[1]]\n",
    "    Y = embs[cand2[0]][cand2[1]]\n",
    "    # Length Normalize\n",
    "    # X = embs1 / torch.linalg.norm(embs1)\n",
    "    # Y = embs2 / torch.linalg.norm(embs2)\n",
    "    # Score\n",
    "    similarity_score = torch.dot(X, Y) / ((torch.dot(X, X) * torch.dot(Y, Y)))\n",
    "    # similarity_score = (similarity_score + 1) / 2\n",
    "    return similarity_score.item()"
   ]
  },
  {
   "cell_type": "code",
   "execution_count": 403,
   "id": "f35530ed-2940-4f8a-b22a-01ce9b08a477",
   "metadata": {},
   "outputs": [],
   "source": [
    "trueLabelsSP = []\n",
    "scoresSP = []\n",
    "for x in range(len(pos1000)):\n",
    "    for ind1, ind2 in pos1000[x]:\n",
    "        scoresSP.append(get_score(spEmbs, (x, ind1), (x, ind2)))\n",
    "        trueLabelsSP.append(1)\n",
    "for x in range(len(neg1000)):\n",
    "    for indCur, ind1, ind2 in neg1000[x]:\n",
    "        scoresSP.append(get_score(spEmbs, (x, indCur), (ind1, ind2)))\n",
    "        trueLabelsSP.append(0)"
   ]
  },
  {
   "cell_type": "code",
   "execution_count": 404,
   "id": "0afd9cc1-963e-45b6-ac50-967ceb83e296",
   "metadata": {},
   "outputs": [],
   "source": [
    "trueLabelsEC = []\n",
    "scoresEC = []\n",
    "for x in range(len(pos1000)):\n",
    "    for ind1, ind2 in pos1000[x]:\n",
    "        scoresEC.append(get_score(ecapaEmbs, (x, ind1), (x, ind2)))\n",
    "        trueLabelsEC.append(1)\n",
    "for x in range(len(neg1000)):\n",
    "    for indCur, ind1, ind2 in neg1000[x]:\n",
    "        scoresEC.append(get_score(ecapaEmbs, (x, indCur), (ind1, ind2)))\n",
    "        trueLabelsEC.append(0)"
   ]
  },
  {
   "cell_type": "code",
   "execution_count": 405,
   "id": "36e3425c-6c36-49ab-ad6c-44737f1c5047",
   "metadata": {},
   "outputs": [],
   "source": [
    "from sklearn.metrics import roc_curve\n",
    "def compute_eer(distances, labels):\n",
    "    fprs, tprs, _ = roc_curve(labels, distances)\n",
    "    eer = fprs[np.argmin(np.absolute((1 - tprs) - fprs))] #get the FPR where FPR ~= FNR (== 1-TPR)\n",
    "    # print(np.min(np.absolute((1 - tprs) - fprs)))\n",
    "    return eer"
   ]
  },
  {
   "cell_type": "code",
   "execution_count": 406,
   "id": "d59cb709-ebdd-4a1f-ad2e-9f92d2040356",
   "metadata": {},
   "outputs": [
    {
     "data": {
      "text/plain": [
       "0.2876543209876543"
      ]
     },
     "execution_count": 406,
     "metadata": {},
     "output_type": "execute_result"
    }
   ],
   "source": [
    "compute_eer(scoresSP, trueLabelsSP)"
   ]
  },
  {
   "cell_type": "code",
   "execution_count": 407,
   "id": "33383c49-7598-4a14-b653-5e5aee21163f",
   "metadata": {},
   "outputs": [
    {
     "data": {
      "text/plain": [
       "0.21522633744855968"
      ]
     },
     "execution_count": 407,
     "metadata": {},
     "output_type": "execute_result"
    }
   ],
   "source": [
    "compute_eer(scoresEC, trueLabelsEC)"
   ]
  }
 ],
 "metadata": {
  "kernelspec": {
   "display_name": "Python 3 (ipykernel)",
   "language": "python",
   "name": "python3"
  },
  "language_info": {
   "codemirror_mode": {
    "name": "ipython",
    "version": 3
   },
   "file_extension": ".py",
   "mimetype": "text/x-python",
   "name": "python",
   "nbconvert_exporter": "python",
   "pygments_lexer": "ipython3",
   "version": "3.8.12"
  }
 },
 "nbformat": 4,
 "nbformat_minor": 5
}
